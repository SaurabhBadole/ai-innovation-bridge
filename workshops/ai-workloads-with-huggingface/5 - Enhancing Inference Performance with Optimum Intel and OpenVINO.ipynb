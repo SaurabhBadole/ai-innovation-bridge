{
 "cells": [
  {
   "cell_type": "markdown",
   "id": "022bfa6f-506c-4bfd-93a8-281ab5a5bcff",
   "metadata": {},
   "source": [
    "# Enhancing Inference Performance with Optimum Intel and OpenVINO\r\n",
    "<img src=\"https://www.intel.com/content/dam/www/central-libraries/us/en/images/2022-07/openvino-logo.png\" alt=\"Alt Text\" style=\"width: 400px;\"/>\n",
    "\n",
    "\n",
    "\r\n",
    "Welcome to this developer-centric workshop, where we explore the integration of Optimum Intel with OpenVINO in the context of Hugging Face's powerful Transformers. This notebook is tailored to demonstrate the effective use of Intel's OpenVINO toolkit, a crucial component for edge computing and optimizing model inference.\r\n",
    "\r\n",
    "## Why Optimum Intel and OpenVINO?\r\n",
    "\r\n",
    "In the current landscape of AI and Machine Learning, deploying models efficiently on edge devices is a critical challenge. Optimum Intel for OpenVINO addresses this by enabling Hugging Face models to leverage the OpenVINO toolkit, which is specifically designed for high-performance, efficient inference on Intel hardware.\r\n",
    "\r\n",
    "### Learning Objectives\r\n",
    "\r\n",
    "- **Understanding OpenVINO**: We will delve into how OpenVINO optimizes model performance, particularly for edge workloads.\r\n",
    "- **Model Compression and Deployment**: Explore OpenVINO's capabilities in model compression techniques and seamless deployment on Intel hardware.\r\n",
    "- **Practical Application**: Learn how to integrate these optimizations into Hugging Face models, enhancing inference performance with minimal code changes.\r\n",
    "\r\n",
    "By the end of this notebook, you will have a practical understanding of applying Intel's OpenVINO optimizations to Hugging Face models, preparing you to deploy efficient AI solutions in edge computing environments.\r\n",
    "\r\n",
    "Let's embark on this journey of optimized model performance!\r\n"
   ]
  },
  {
   "cell_type": "code",
   "execution_count": 1,
   "id": "175e5202-27ad-47a8-9906-e831ad51db6e",
   "metadata": {
    "scrolled": true
   },
   "outputs": [
    {
     "name": "stdout",
     "output_type": "stream",
     "text": [
      " \n",
      ":: WARNING: setvars.sh has already been run. Skipping re-execution.\n",
      "   To force a re-execution of setvars.sh, use the '--force' option.\n",
      "   Using '--force' can result in excessive use of your environment variables.\n",
      "  \n",
      "usage: source setvars.sh [--force] [--config=file] [--help] [...]\n",
      "  --force        Force setvars.sh to re-run, doing so may overload environment.\n",
      "  --config=file  Customize env vars using a setvars.sh configuration file.\n",
      "  --help         Display this help message and exit.\n",
      "  ...            Additional args are passed to individual env/vars.sh scripts\n",
      "                 and should follow this script's arguments.\n",
      "  \n",
      "  Some POSIX shells do not accept command-line options. In that case, you can pass\n",
      "  command-line options via the SETVARS_ARGS environment variable. For example:\n",
      "  \n",
      "  $ SETVARS_ARGS=\"ia32 --config=config.txt\" ; export SETVARS_ARGS\n",
      "  $ . path/to/setvars.sh\n",
      "  \n",
      "  The SETVARS_ARGS environment variable is cleared on exiting setvars.sh.\n",
      "  \n",
      "Defaulting to user installation because normal site-packages is not writeable\n",
      "\u001b[33mWARNING: Ignoring invalid distribution -vidia-nccl-cu12 (/home/uad6b15e0ae3d5e407195ab5f044a50f/.local/lib/python3.9/site-packages)\u001b[0m\u001b[33m\n",
      "\u001b[0m\u001b[33mWARNING: Ignoring invalid distribution -vidia-nccl-cu12 (/home/uad6b15e0ae3d5e407195ab5f044a50f/.local/lib/python3.9/site-packages)\u001b[0m\u001b[33m\n",
      "\u001b[0mRequirement already satisfied: transformers==4.37.2 in /home/uad6b15e0ae3d5e407195ab5f044a50f/.local/lib/python3.9/site-packages (4.37.2)\n",
      "Requirement already satisfied: filelock in /home/uad6b15e0ae3d5e407195ab5f044a50f/.local/lib/python3.9/site-packages (from transformers==4.37.2) (3.13.1)\n",
      "Requirement already satisfied: huggingface-hub<1.0,>=0.19.3 in /home/uad6b15e0ae3d5e407195ab5f044a50f/.local/lib/python3.9/site-packages (from transformers==4.37.2) (0.20.3)\n",
      "Requirement already satisfied: numpy>=1.17 in /opt/intel/oneapi/intelpython/python3.9/lib/python3.9/site-packages (from transformers==4.37.2) (1.24.3)\n",
      "Requirement already satisfied: packaging>=20.0 in /opt/intel/oneapi/intelpython/python3.9/lib/python3.9/site-packages (from transformers==4.37.2) (23.1)\n",
      "Requirement already satisfied: pyyaml>=5.1 in /opt/intel/oneapi/intelpython/python3.9/lib/python3.9/site-packages (from transformers==4.37.2) (6.0)\n",
      "Requirement already satisfied: regex!=2019.12.17 in /home/uad6b15e0ae3d5e407195ab5f044a50f/.local/lib/python3.9/site-packages (from transformers==4.37.2) (2023.12.25)\n",
      "Requirement already satisfied: requests in /opt/intel/oneapi/intelpython/python3.9/lib/python3.9/site-packages (from transformers==4.37.2) (2.31.0)\n",
      "Requirement already satisfied: tokenizers<0.19,>=0.14 in /home/uad6b15e0ae3d5e407195ab5f044a50f/.local/lib/python3.9/site-packages (from transformers==4.37.2) (0.15.1)\n",
      "Requirement already satisfied: safetensors>=0.4.1 in /home/uad6b15e0ae3d5e407195ab5f044a50f/.local/lib/python3.9/site-packages (from transformers==4.37.2) (0.4.2)\n",
      "Requirement already satisfied: tqdm>=4.27 in /opt/intel/oneapi/intelpython/python3.9/lib/python3.9/site-packages (from transformers==4.37.2) (4.65.0)\n",
      "Requirement already satisfied: fsspec>=2023.5.0 in /home/uad6b15e0ae3d5e407195ab5f044a50f/.local/lib/python3.9/site-packages (from huggingface-hub<1.0,>=0.19.3->transformers==4.37.2) (2023.10.0)\n",
      "Requirement already satisfied: typing-extensions>=3.7.4.3 in /home/uad6b15e0ae3d5e407195ab5f044a50f/.local/lib/python3.9/site-packages (from huggingface-hub<1.0,>=0.19.3->transformers==4.37.2) (4.9.0)\n",
      "Requirement already satisfied: charset-normalizer<4,>=2 in /opt/intel/oneapi/intelpython/python3.9/lib/python3.9/site-packages (from requests->transformers==4.37.2) (3.1.0)\n",
      "Requirement already satisfied: idna<4,>=2.5 in /opt/intel/oneapi/intelpython/python3.9/lib/python3.9/site-packages (from requests->transformers==4.37.2) (3.4)\n",
      "Requirement already satisfied: urllib3<3,>=1.21.1 in /opt/intel/oneapi/intelpython/python3.9/lib/python3.9/site-packages (from requests->transformers==4.37.2) (2.0.3)\n",
      "Requirement already satisfied: certifi>=2017.4.17 in /opt/intel/oneapi/intelpython/python3.9/lib/python3.9/site-packages (from requests->transformers==4.37.2) (2023.7.22)\n",
      "\u001b[33mWARNING: Ignoring invalid distribution -vidia-nccl-cu12 (/home/uad6b15e0ae3d5e407195ab5f044a50f/.local/lib/python3.9/site-packages)\u001b[0m\u001b[33m\n",
      "\u001b[0m\u001b[33mWARNING: Ignoring invalid distribution -vidia-nccl-cu12 (/home/uad6b15e0ae3d5e407195ab5f044a50f/.local/lib/python3.9/site-packages)\u001b[0m\u001b[33m\n",
      "\u001b[0m\u001b[33mWARNING: Ignoring invalid distribution -vidia-nccl-cu12 (/home/uad6b15e0ae3d5e407195ab5f044a50f/.local/lib/python3.9/site-packages)\u001b[0m\u001b[33m\n",
      "\u001b[0m\u001b[33mWARNING: Ignoring invalid distribution -vidia-nccl-cu12 (/home/uad6b15e0ae3d5e407195ab5f044a50f/.local/lib/python3.9/site-packages)\u001b[0m\u001b[33m\n",
      "\u001b[0mDefaulting to user installation because normal site-packages is not writeable\n",
      "\u001b[33mWARNING: Ignoring invalid distribution -vidia-nccl-cu12 (/home/uad6b15e0ae3d5e407195ab5f044a50f/.local/lib/python3.9/site-packages)\u001b[0m\u001b[33m\n",
      "\u001b[0m\u001b[33mWARNING: Ignoring invalid distribution -vidia-nccl-cu12 (/home/uad6b15e0ae3d5e407195ab5f044a50f/.local/lib/python3.9/site-packages)\u001b[0m\u001b[33m\n",
      "\u001b[0mRequirement already satisfied: optimum==1.16.2 in /home/uad6b15e0ae3d5e407195ab5f044a50f/.local/lib/python3.9/site-packages (1.16.2)\n",
      "Requirement already satisfied: coloredlogs in /home/uad6b15e0ae3d5e407195ab5f044a50f/.local/lib/python3.9/site-packages (from optimum==1.16.2) (15.0.1)\n",
      "Requirement already satisfied: sympy in /home/uad6b15e0ae3d5e407195ab5f044a50f/.local/lib/python3.9/site-packages (from optimum==1.16.2) (1.12)\n",
      "Requirement already satisfied: transformers[sentencepiece]>=4.26.0 in /home/uad6b15e0ae3d5e407195ab5f044a50f/.local/lib/python3.9/site-packages (from optimum==1.16.2) (4.37.2)\n",
      "Requirement already satisfied: torch>=1.11 in /home/uad6b15e0ae3d5e407195ab5f044a50f/.local/lib/python3.9/site-packages (from optimum==1.16.2) (2.1.1)\n",
      "Requirement already satisfied: packaging in /opt/intel/oneapi/intelpython/python3.9/lib/python3.9/site-packages (from optimum==1.16.2) (23.1)\n",
      "Requirement already satisfied: numpy in /opt/intel/oneapi/intelpython/python3.9/lib/python3.9/site-packages (from optimum==1.16.2) (1.24.3)\n",
      "Requirement already satisfied: huggingface-hub>=0.8.0 in /home/uad6b15e0ae3d5e407195ab5f044a50f/.local/lib/python3.9/site-packages (from optimum==1.16.2) (0.20.3)\n",
      "Requirement already satisfied: datasets in /home/uad6b15e0ae3d5e407195ab5f044a50f/.local/lib/python3.9/site-packages (from optimum==1.16.2) (2.14.6)\n",
      "Requirement already satisfied: filelock in /home/uad6b15e0ae3d5e407195ab5f044a50f/.local/lib/python3.9/site-packages (from huggingface-hub>=0.8.0->optimum==1.16.2) (3.13.1)\n",
      "Requirement already satisfied: fsspec>=2023.5.0 in /home/uad6b15e0ae3d5e407195ab5f044a50f/.local/lib/python3.9/site-packages (from huggingface-hub>=0.8.0->optimum==1.16.2) (2023.10.0)\n",
      "Requirement already satisfied: requests in /opt/intel/oneapi/intelpython/python3.9/lib/python3.9/site-packages (from huggingface-hub>=0.8.0->optimum==1.16.2) (2.31.0)\n",
      "Requirement already satisfied: tqdm>=4.42.1 in /opt/intel/oneapi/intelpython/python3.9/lib/python3.9/site-packages (from huggingface-hub>=0.8.0->optimum==1.16.2) (4.65.0)\n",
      "Requirement already satisfied: pyyaml>=5.1 in /opt/intel/oneapi/intelpython/python3.9/lib/python3.9/site-packages (from huggingface-hub>=0.8.0->optimum==1.16.2) (6.0)\n",
      "Requirement already satisfied: typing-extensions>=3.7.4.3 in /home/uad6b15e0ae3d5e407195ab5f044a50f/.local/lib/python3.9/site-packages (from huggingface-hub>=0.8.0->optimum==1.16.2) (4.9.0)\n",
      "Requirement already satisfied: networkx in /home/uad6b15e0ae3d5e407195ab5f044a50f/.local/lib/python3.9/site-packages (from torch>=1.11->optimum==1.16.2) (3.1)\n",
      "Requirement already satisfied: jinja2 in /home/uad6b15e0ae3d5e407195ab5f044a50f/.local/lib/python3.9/site-packages (from torch>=1.11->optimum==1.16.2) (3.1.3)\n",
      "Requirement already satisfied: nvidia-cuda-nvrtc-cu12==12.1.105 in /home/uad6b15e0ae3d5e407195ab5f044a50f/.local/lib/python3.9/site-packages (from torch>=1.11->optimum==1.16.2) (12.1.105)\n",
      "Requirement already satisfied: nvidia-cuda-runtime-cu12==12.1.105 in /home/uad6b15e0ae3d5e407195ab5f044a50f/.local/lib/python3.9/site-packages (from torch>=1.11->optimum==1.16.2) (12.1.105)\n",
      "Requirement already satisfied: nvidia-cuda-cupti-cu12==12.1.105 in /home/uad6b15e0ae3d5e407195ab5f044a50f/.local/lib/python3.9/site-packages (from torch>=1.11->optimum==1.16.2) (12.1.105)\n",
      "Requirement already satisfied: nvidia-cudnn-cu12==8.9.2.26 in /home/uad6b15e0ae3d5e407195ab5f044a50f/.local/lib/python3.9/site-packages (from torch>=1.11->optimum==1.16.2) (8.9.2.26)\n",
      "Requirement already satisfied: nvidia-cublas-cu12==12.1.3.1 in /home/uad6b15e0ae3d5e407195ab5f044a50f/.local/lib/python3.9/site-packages (from torch>=1.11->optimum==1.16.2) (12.1.3.1)\n",
      "Requirement already satisfied: nvidia-cufft-cu12==11.0.2.54 in /home/uad6b15e0ae3d5e407195ab5f044a50f/.local/lib/python3.9/site-packages (from torch>=1.11->optimum==1.16.2) (11.0.2.54)\n",
      "Requirement already satisfied: nvidia-curand-cu12==10.3.2.106 in /home/uad6b15e0ae3d5e407195ab5f044a50f/.local/lib/python3.9/site-packages (from torch>=1.11->optimum==1.16.2) (10.3.2.106)\n",
      "Requirement already satisfied: nvidia-cusolver-cu12==11.4.5.107 in /home/uad6b15e0ae3d5e407195ab5f044a50f/.local/lib/python3.9/site-packages (from torch>=1.11->optimum==1.16.2) (11.4.5.107)\n",
      "Requirement already satisfied: nvidia-cusparse-cu12==12.1.0.106 in /home/uad6b15e0ae3d5e407195ab5f044a50f/.local/lib/python3.9/site-packages (from torch>=1.11->optimum==1.16.2) (12.1.0.106)\n",
      "Requirement already satisfied: nvidia-nccl-cu12==2.18.1 in /home/uad6b15e0ae3d5e407195ab5f044a50f/.local/lib/python3.9/site-packages (from torch>=1.11->optimum==1.16.2) (2.18.1)\n",
      "Requirement already satisfied: nvidia-nvtx-cu12==12.1.105 in /home/uad6b15e0ae3d5e407195ab5f044a50f/.local/lib/python3.9/site-packages (from torch>=1.11->optimum==1.16.2) (12.1.105)\n",
      "Requirement already satisfied: triton==2.1.0 in /home/uad6b15e0ae3d5e407195ab5f044a50f/.local/lib/python3.9/site-packages (from torch>=1.11->optimum==1.16.2) (2.1.0)\n",
      "Requirement already satisfied: nvidia-nvjitlink-cu12 in /home/uad6b15e0ae3d5e407195ab5f044a50f/.local/lib/python3.9/site-packages (from nvidia-cusolver-cu12==11.4.5.107->torch>=1.11->optimum==1.16.2) (12.3.101)\n",
      "Requirement already satisfied: regex!=2019.12.17 in /home/uad6b15e0ae3d5e407195ab5f044a50f/.local/lib/python3.9/site-packages (from transformers[sentencepiece]>=4.26.0->optimum==1.16.2) (2023.12.25)\n",
      "Requirement already satisfied: tokenizers<0.19,>=0.14 in /home/uad6b15e0ae3d5e407195ab5f044a50f/.local/lib/python3.9/site-packages (from transformers[sentencepiece]>=4.26.0->optimum==1.16.2) (0.15.1)\n",
      "Requirement already satisfied: safetensors>=0.4.1 in /home/uad6b15e0ae3d5e407195ab5f044a50f/.local/lib/python3.9/site-packages (from transformers[sentencepiece]>=4.26.0->optimum==1.16.2) (0.4.2)\n",
      "Requirement already satisfied: sentencepiece!=0.1.92,>=0.1.91 in /home/uad6b15e0ae3d5e407195ab5f044a50f/.local/lib/python3.9/site-packages (from transformers[sentencepiece]>=4.26.0->optimum==1.16.2) (0.1.99)\n",
      "Requirement already satisfied: protobuf in /home/uad6b15e0ae3d5e407195ab5f044a50f/.local/lib/python3.9/site-packages (from transformers[sentencepiece]>=4.26.0->optimum==1.16.2) (4.25.2)\n",
      "Requirement already satisfied: humanfriendly>=9.1 in /home/uad6b15e0ae3d5e407195ab5f044a50f/.local/lib/python3.9/site-packages (from coloredlogs->optimum==1.16.2) (10.0)\n",
      "Requirement already satisfied: pyarrow>=8.0.0 in /home/uad6b15e0ae3d5e407195ab5f044a50f/.local/lib/python3.9/site-packages (from datasets->optimum==1.16.2) (15.0.0)\n",
      "Requirement already satisfied: dill<0.3.8,>=0.3.0 in /home/uad6b15e0ae3d5e407195ab5f044a50f/.local/lib/python3.9/site-packages (from datasets->optimum==1.16.2) (0.3.7)\n",
      "Requirement already satisfied: pandas in /opt/intel/oneapi/intelpython/python3.9/lib/python3.9/site-packages (from datasets->optimum==1.16.2) (2.0.3)\n",
      "Requirement already satisfied: xxhash in /home/uad6b15e0ae3d5e407195ab5f044a50f/.local/lib/python3.9/site-packages (from datasets->optimum==1.16.2) (3.4.1)\n",
      "Requirement already satisfied: multiprocess in /home/uad6b15e0ae3d5e407195ab5f044a50f/.local/lib/python3.9/site-packages (from datasets->optimum==1.16.2) (0.70.15)\n",
      "Requirement already satisfied: aiohttp in /home/uad6b15e0ae3d5e407195ab5f044a50f/.local/lib/python3.9/site-packages (from datasets->optimum==1.16.2) (3.9.3)\n",
      "Requirement already satisfied: mpmath>=0.19 in /home/uad6b15e0ae3d5e407195ab5f044a50f/.local/lib/python3.9/site-packages (from sympy->optimum==1.16.2) (1.3.0)\n",
      "Requirement already satisfied: aiosignal>=1.1.2 in /home/uad6b15e0ae3d5e407195ab5f044a50f/.local/lib/python3.9/site-packages (from aiohttp->datasets->optimum==1.16.2) (1.3.1)\n",
      "Requirement already satisfied: attrs>=17.3.0 in /home/uad6b15e0ae3d5e407195ab5f044a50f/.local/lib/python3.9/site-packages (from aiohttp->datasets->optimum==1.16.2) (23.2.0)\n",
      "Requirement already satisfied: frozenlist>=1.1.1 in /home/uad6b15e0ae3d5e407195ab5f044a50f/.local/lib/python3.9/site-packages (from aiohttp->datasets->optimum==1.16.2) (1.4.1)\n",
      "Requirement already satisfied: multidict<7.0,>=4.5 in /home/uad6b15e0ae3d5e407195ab5f044a50f/.local/lib/python3.9/site-packages (from aiohttp->datasets->optimum==1.16.2) (6.0.4)\n",
      "Requirement already satisfied: yarl<2.0,>=1.0 in /home/uad6b15e0ae3d5e407195ab5f044a50f/.local/lib/python3.9/site-packages (from aiohttp->datasets->optimum==1.16.2) (1.9.4)\n",
      "Requirement already satisfied: async-timeout<5.0,>=4.0 in /home/uad6b15e0ae3d5e407195ab5f044a50f/.local/lib/python3.9/site-packages (from aiohttp->datasets->optimum==1.16.2) (4.0.3)\n",
      "Requirement already satisfied: charset-normalizer<4,>=2 in /opt/intel/oneapi/intelpython/python3.9/lib/python3.9/site-packages (from requests->huggingface-hub>=0.8.0->optimum==1.16.2) (3.1.0)\n",
      "Requirement already satisfied: idna<4,>=2.5 in /opt/intel/oneapi/intelpython/python3.9/lib/python3.9/site-packages (from requests->huggingface-hub>=0.8.0->optimum==1.16.2) (3.4)\n",
      "Requirement already satisfied: urllib3<3,>=1.21.1 in /opt/intel/oneapi/intelpython/python3.9/lib/python3.9/site-packages (from requests->huggingface-hub>=0.8.0->optimum==1.16.2) (2.0.3)\n",
      "Requirement already satisfied: certifi>=2017.4.17 in /opt/intel/oneapi/intelpython/python3.9/lib/python3.9/site-packages (from requests->huggingface-hub>=0.8.0->optimum==1.16.2) (2023.7.22)\n",
      "Requirement already satisfied: MarkupSafe>=2.0 in /home/uad6b15e0ae3d5e407195ab5f044a50f/.local/lib/python3.9/site-packages (from jinja2->torch>=1.11->optimum==1.16.2) (2.1.4)\n",
      "Requirement already satisfied: python-dateutil>=2.8.2 in /opt/intel/oneapi/intelpython/python3.9/lib/python3.9/site-packages (from pandas->datasets->optimum==1.16.2) (2.8.2)\n",
      "Requirement already satisfied: pytz>=2020.1 in /opt/intel/oneapi/intelpython/python3.9/lib/python3.9/site-packages (from pandas->datasets->optimum==1.16.2) (2023.3)\n",
      "Requirement already satisfied: tzdata>=2022.1 in /opt/intel/oneapi/intelpython/python3.9/lib/python3.9/site-packages (from pandas->datasets->optimum==1.16.2) (2023.3)\n",
      "Requirement already satisfied: six>=1.5 in /opt/intel/oneapi/intelpython/python3.9/lib/python3.9/site-packages (from python-dateutil>=2.8.2->pandas->datasets->optimum==1.16.2) (1.16.0)\n",
      "\u001b[33mWARNING: Ignoring invalid distribution -vidia-nccl-cu12 (/home/uad6b15e0ae3d5e407195ab5f044a50f/.local/lib/python3.9/site-packages)\u001b[0m\u001b[33m\n",
      "\u001b[0m\u001b[33mWARNING: Ignoring invalid distribution -vidia-nccl-cu12 (/home/uad6b15e0ae3d5e407195ab5f044a50f/.local/lib/python3.9/site-packages)\u001b[0m\u001b[33m\n",
      "\u001b[0m\u001b[33mWARNING: Ignoring invalid distribution -vidia-nccl-cu12 (/home/uad6b15e0ae3d5e407195ab5f044a50f/.local/lib/python3.9/site-packages)\u001b[0m\u001b[33m\n",
      "\u001b[0m\u001b[33mWARNING: Ignoring invalid distribution -vidia-nccl-cu12 (/home/uad6b15e0ae3d5e407195ab5f044a50f/.local/lib/python3.9/site-packages)\u001b[0m\u001b[33m\n",
      "\u001b[0mDefaulting to user installation because normal site-packages is not writeable\n",
      "\u001b[33mWARNING: Ignoring invalid distribution -vidia-nccl-cu12 (/home/uad6b15e0ae3d5e407195ab5f044a50f/.local/lib/python3.9/site-packages)\u001b[0m\u001b[33m\n",
      "\u001b[0m\u001b[33mWARNING: Ignoring invalid distribution -vidia-nccl-cu12 (/home/uad6b15e0ae3d5e407195ab5f044a50f/.local/lib/python3.9/site-packages)\u001b[0m\u001b[33m\n",
      "\u001b[0mRequirement already satisfied: optimum[nncf,openvino]==1.16.2 in /home/uad6b15e0ae3d5e407195ab5f044a50f/.local/lib/python3.9/site-packages (1.16.2)\n",
      "Requirement already satisfied: coloredlogs in /home/uad6b15e0ae3d5e407195ab5f044a50f/.local/lib/python3.9/site-packages (from optimum[nncf,openvino]==1.16.2) (15.0.1)\n",
      "Requirement already satisfied: sympy in /home/uad6b15e0ae3d5e407195ab5f044a50f/.local/lib/python3.9/site-packages (from optimum[nncf,openvino]==1.16.2) (1.12)\n",
      "Requirement already satisfied: transformers[sentencepiece]>=4.26.0 in /home/uad6b15e0ae3d5e407195ab5f044a50f/.local/lib/python3.9/site-packages (from optimum[nncf,openvino]==1.16.2) (4.37.2)\n",
      "Requirement already satisfied: torch>=1.11 in /home/uad6b15e0ae3d5e407195ab5f044a50f/.local/lib/python3.9/site-packages (from optimum[nncf,openvino]==1.16.2) (2.1.1)\n",
      "Requirement already satisfied: packaging in /opt/intel/oneapi/intelpython/python3.9/lib/python3.9/site-packages (from optimum[nncf,openvino]==1.16.2) (23.1)\n",
      "Requirement already satisfied: numpy in /opt/intel/oneapi/intelpython/python3.9/lib/python3.9/site-packages (from optimum[nncf,openvino]==1.16.2) (1.24.3)\n",
      "Requirement already satisfied: huggingface-hub>=0.8.0 in /home/uad6b15e0ae3d5e407195ab5f044a50f/.local/lib/python3.9/site-packages (from optimum[nncf,openvino]==1.16.2) (0.20.3)\n",
      "Requirement already satisfied: datasets in /home/uad6b15e0ae3d5e407195ab5f044a50f/.local/lib/python3.9/site-packages (from optimum[nncf,openvino]==1.16.2) (2.14.6)\n",
      "Requirement already satisfied: optimum-intel[openvino]>=1.12.0 in /home/uad6b15e0ae3d5e407195ab5f044a50f/.local/lib/python3.9/site-packages (from optimum[nncf,openvino]==1.16.2) (1.14.0)\n",
      "Requirement already satisfied: filelock in /home/uad6b15e0ae3d5e407195ab5f044a50f/.local/lib/python3.9/site-packages (from huggingface-hub>=0.8.0->optimum[nncf,openvino]==1.16.2) (3.13.1)\n",
      "Requirement already satisfied: fsspec>=2023.5.0 in /home/uad6b15e0ae3d5e407195ab5f044a50f/.local/lib/python3.9/site-packages (from huggingface-hub>=0.8.0->optimum[nncf,openvino]==1.16.2) (2023.10.0)\n",
      "Requirement already satisfied: requests in /opt/intel/oneapi/intelpython/python3.9/lib/python3.9/site-packages (from huggingface-hub>=0.8.0->optimum[nncf,openvino]==1.16.2) (2.31.0)\n",
      "Requirement already satisfied: tqdm>=4.42.1 in /opt/intel/oneapi/intelpython/python3.9/lib/python3.9/site-packages (from huggingface-hub>=0.8.0->optimum[nncf,openvino]==1.16.2) (4.65.0)\n",
      "Requirement already satisfied: pyyaml>=5.1 in /opt/intel/oneapi/intelpython/python3.9/lib/python3.9/site-packages (from huggingface-hub>=0.8.0->optimum[nncf,openvino]==1.16.2) (6.0)\n",
      "Requirement already satisfied: typing-extensions>=3.7.4.3 in /home/uad6b15e0ae3d5e407195ab5f044a50f/.local/lib/python3.9/site-packages (from huggingface-hub>=0.8.0->optimum[nncf,openvino]==1.16.2) (4.9.0)\n",
      "Requirement already satisfied: sentencepiece in /home/uad6b15e0ae3d5e407195ab5f044a50f/.local/lib/python3.9/site-packages (from optimum-intel[openvino]>=1.12.0->optimum[nncf,openvino]==1.16.2) (0.1.99)\n",
      "Requirement already satisfied: scipy in /opt/intel/oneapi/intelpython/python3.9/lib/python3.9/site-packages (from optimum-intel[openvino]>=1.12.0->optimum[nncf,openvino]==1.16.2) (1.10.1)\n",
      "Requirement already satisfied: accelerate in /home/uad6b15e0ae3d5e407195ab5f044a50f/.local/lib/python3.9/site-packages (from optimum-intel[openvino]>=1.12.0->optimum[nncf,openvino]==1.16.2) (0.26.1)\n",
      "Requirement already satisfied: nncf>=2.7.0 in /home/uad6b15e0ae3d5e407195ab5f044a50f/.local/lib/python3.9/site-packages (from optimum-intel[openvino]>=1.12.0->optimum[nncf,openvino]==1.16.2) (2.8.0)\n",
      "Requirement already satisfied: pyarrow>=8.0.0 in /home/uad6b15e0ae3d5e407195ab5f044a50f/.local/lib/python3.9/site-packages (from datasets->optimum[nncf,openvino]==1.16.2) (15.0.0)\n",
      "Requirement already satisfied: dill<0.3.8,>=0.3.0 in /home/uad6b15e0ae3d5e407195ab5f044a50f/.local/lib/python3.9/site-packages (from datasets->optimum[nncf,openvino]==1.16.2) (0.3.7)\n",
      "Requirement already satisfied: pandas in /opt/intel/oneapi/intelpython/python3.9/lib/python3.9/site-packages (from datasets->optimum[nncf,openvino]==1.16.2) (2.0.3)\n",
      "Requirement already satisfied: xxhash in /home/uad6b15e0ae3d5e407195ab5f044a50f/.local/lib/python3.9/site-packages (from datasets->optimum[nncf,openvino]==1.16.2) (3.4.1)\n",
      "Requirement already satisfied: multiprocess in /home/uad6b15e0ae3d5e407195ab5f044a50f/.local/lib/python3.9/site-packages (from datasets->optimum[nncf,openvino]==1.16.2) (0.70.15)\n",
      "Requirement already satisfied: aiohttp in /home/uad6b15e0ae3d5e407195ab5f044a50f/.local/lib/python3.9/site-packages (from datasets->optimum[nncf,openvino]==1.16.2) (3.9.3)\n",
      "Requirement already satisfied: openvino>=2023.2 in /home/uad6b15e0ae3d5e407195ab5f044a50f/.local/lib/python3.9/site-packages (from optimum-intel[openvino]>=1.12.0->optimum[nncf,openvino]==1.16.2) (2023.3.0)\n",
      "Requirement already satisfied: onnx in /home/uad6b15e0ae3d5e407195ab5f044a50f/.local/lib/python3.9/site-packages (from optimum-intel[openvino]>=1.12.0->optimum[nncf,openvino]==1.16.2) (1.15.0)\n",
      "Requirement already satisfied: onnxruntime in /home/uad6b15e0ae3d5e407195ab5f044a50f/.local/lib/python3.9/site-packages (from optimum-intel[openvino]>=1.12.0->optimum[nncf,openvino]==1.16.2) (1.14.1)\n",
      "Requirement already satisfied: networkx in /home/uad6b15e0ae3d5e407195ab5f044a50f/.local/lib/python3.9/site-packages (from torch>=1.11->optimum[nncf,openvino]==1.16.2) (3.1)\n",
      "Requirement already satisfied: jinja2 in /home/uad6b15e0ae3d5e407195ab5f044a50f/.local/lib/python3.9/site-packages (from torch>=1.11->optimum[nncf,openvino]==1.16.2) (3.1.3)\n",
      "Requirement already satisfied: nvidia-cuda-nvrtc-cu12==12.1.105 in /home/uad6b15e0ae3d5e407195ab5f044a50f/.local/lib/python3.9/site-packages (from torch>=1.11->optimum[nncf,openvino]==1.16.2) (12.1.105)\n",
      "Requirement already satisfied: nvidia-cuda-runtime-cu12==12.1.105 in /home/uad6b15e0ae3d5e407195ab5f044a50f/.local/lib/python3.9/site-packages (from torch>=1.11->optimum[nncf,openvino]==1.16.2) (12.1.105)\n",
      "Requirement already satisfied: nvidia-cuda-cupti-cu12==12.1.105 in /home/uad6b15e0ae3d5e407195ab5f044a50f/.local/lib/python3.9/site-packages (from torch>=1.11->optimum[nncf,openvino]==1.16.2) (12.1.105)\n",
      "Requirement already satisfied: nvidia-cudnn-cu12==8.9.2.26 in /home/uad6b15e0ae3d5e407195ab5f044a50f/.local/lib/python3.9/site-packages (from torch>=1.11->optimum[nncf,openvino]==1.16.2) (8.9.2.26)\n",
      "Requirement already satisfied: nvidia-cublas-cu12==12.1.3.1 in /home/uad6b15e0ae3d5e407195ab5f044a50f/.local/lib/python3.9/site-packages (from torch>=1.11->optimum[nncf,openvino]==1.16.2) (12.1.3.1)\n",
      "Requirement already satisfied: nvidia-cufft-cu12==11.0.2.54 in /home/uad6b15e0ae3d5e407195ab5f044a50f/.local/lib/python3.9/site-packages (from torch>=1.11->optimum[nncf,openvino]==1.16.2) (11.0.2.54)\n",
      "Requirement already satisfied: nvidia-curand-cu12==10.3.2.106 in /home/uad6b15e0ae3d5e407195ab5f044a50f/.local/lib/python3.9/site-packages (from torch>=1.11->optimum[nncf,openvino]==1.16.2) (10.3.2.106)\n",
      "Requirement already satisfied: nvidia-cusolver-cu12==11.4.5.107 in /home/uad6b15e0ae3d5e407195ab5f044a50f/.local/lib/python3.9/site-packages (from torch>=1.11->optimum[nncf,openvino]==1.16.2) (11.4.5.107)\n",
      "Requirement already satisfied: nvidia-cusparse-cu12==12.1.0.106 in /home/uad6b15e0ae3d5e407195ab5f044a50f/.local/lib/python3.9/site-packages (from torch>=1.11->optimum[nncf,openvino]==1.16.2) (12.1.0.106)\n",
      "Requirement already satisfied: nvidia-nccl-cu12==2.18.1 in /home/uad6b15e0ae3d5e407195ab5f044a50f/.local/lib/python3.9/site-packages (from torch>=1.11->optimum[nncf,openvino]==1.16.2) (2.18.1)\n",
      "Requirement already satisfied: nvidia-nvtx-cu12==12.1.105 in /home/uad6b15e0ae3d5e407195ab5f044a50f/.local/lib/python3.9/site-packages (from torch>=1.11->optimum[nncf,openvino]==1.16.2) (12.1.105)\n",
      "Requirement already satisfied: triton==2.1.0 in /home/uad6b15e0ae3d5e407195ab5f044a50f/.local/lib/python3.9/site-packages (from torch>=1.11->optimum[nncf,openvino]==1.16.2) (2.1.0)\n",
      "Requirement already satisfied: nvidia-nvjitlink-cu12 in /home/uad6b15e0ae3d5e407195ab5f044a50f/.local/lib/python3.9/site-packages (from nvidia-cusolver-cu12==11.4.5.107->torch>=1.11->optimum[nncf,openvino]==1.16.2) (12.3.101)\n",
      "Requirement already satisfied: regex!=2019.12.17 in /home/uad6b15e0ae3d5e407195ab5f044a50f/.local/lib/python3.9/site-packages (from transformers[sentencepiece]>=4.26.0->optimum[nncf,openvino]==1.16.2) (2023.12.25)\n",
      "Requirement already satisfied: tokenizers<0.19,>=0.14 in /home/uad6b15e0ae3d5e407195ab5f044a50f/.local/lib/python3.9/site-packages (from transformers[sentencepiece]>=4.26.0->optimum[nncf,openvino]==1.16.2) (0.15.1)\n",
      "Requirement already satisfied: safetensors>=0.4.1 in /home/uad6b15e0ae3d5e407195ab5f044a50f/.local/lib/python3.9/site-packages (from transformers[sentencepiece]>=4.26.0->optimum[nncf,openvino]==1.16.2) (0.4.2)\n",
      "Requirement already satisfied: protobuf in /home/uad6b15e0ae3d5e407195ab5f044a50f/.local/lib/python3.9/site-packages (from transformers[sentencepiece]>=4.26.0->optimum[nncf,openvino]==1.16.2) (4.25.2)\n",
      "Requirement already satisfied: humanfriendly>=9.1 in /home/uad6b15e0ae3d5e407195ab5f044a50f/.local/lib/python3.9/site-packages (from coloredlogs->optimum[nncf,openvino]==1.16.2) (10.0)\n",
      "Requirement already satisfied: mpmath>=0.19 in /home/uad6b15e0ae3d5e407195ab5f044a50f/.local/lib/python3.9/site-packages (from sympy->optimum[nncf,openvino]==1.16.2) (1.3.0)\n",
      "Requirement already satisfied: aiosignal>=1.1.2 in /home/uad6b15e0ae3d5e407195ab5f044a50f/.local/lib/python3.9/site-packages (from aiohttp->datasets->optimum[nncf,openvino]==1.16.2) (1.3.1)\n",
      "Requirement already satisfied: attrs>=17.3.0 in /home/uad6b15e0ae3d5e407195ab5f044a50f/.local/lib/python3.9/site-packages (from aiohttp->datasets->optimum[nncf,openvino]==1.16.2) (23.2.0)\n",
      "Requirement already satisfied: frozenlist>=1.1.1 in /home/uad6b15e0ae3d5e407195ab5f044a50f/.local/lib/python3.9/site-packages (from aiohttp->datasets->optimum[nncf,openvino]==1.16.2) (1.4.1)\n",
      "Requirement already satisfied: multidict<7.0,>=4.5 in /home/uad6b15e0ae3d5e407195ab5f044a50f/.local/lib/python3.9/site-packages (from aiohttp->datasets->optimum[nncf,openvino]==1.16.2) (6.0.4)\n",
      "Requirement already satisfied: yarl<2.0,>=1.0 in /home/uad6b15e0ae3d5e407195ab5f044a50f/.local/lib/python3.9/site-packages (from aiohttp->datasets->optimum[nncf,openvino]==1.16.2) (1.9.4)\n",
      "Requirement already satisfied: async-timeout<5.0,>=4.0 in /home/uad6b15e0ae3d5e407195ab5f044a50f/.local/lib/python3.9/site-packages (from aiohttp->datasets->optimum[nncf,openvino]==1.16.2) (4.0.3)\n",
      "Requirement already satisfied: jsonschema>=3.2.0 in /home/uad6b15e0ae3d5e407195ab5f044a50f/.local/lib/python3.9/site-packages (from nncf>=2.7.0->optimum-intel[openvino]>=1.12.0->optimum[nncf,openvino]==1.16.2) (4.21.1)\n",
      "Requirement already satisfied: jstyleson>=0.0.2 in /home/uad6b15e0ae3d5e407195ab5f044a50f/.local/lib/python3.9/site-packages (from nncf>=2.7.0->optimum-intel[openvino]>=1.12.0->optimum[nncf,openvino]==1.16.2) (0.0.2)\n",
      "Requirement already satisfied: natsort>=7.1.0 in /home/uad6b15e0ae3d5e407195ab5f044a50f/.local/lib/python3.9/site-packages (from nncf>=2.7.0->optimum-intel[openvino]>=1.12.0->optimum[nncf,openvino]==1.16.2) (8.4.0)\n",
      "Requirement already satisfied: ninja<1.11,>=1.10.0.post2 in /home/uad6b15e0ae3d5e407195ab5f044a50f/.local/lib/python3.9/site-packages (from nncf>=2.7.0->optimum-intel[openvino]>=1.12.0->optimum[nncf,openvino]==1.16.2) (1.10.2.4)\n",
      "Requirement already satisfied: openvino-telemetry>=2023.2.0 in /home/uad6b15e0ae3d5e407195ab5f044a50f/.local/lib/python3.9/site-packages (from nncf>=2.7.0->optimum-intel[openvino]>=1.12.0->optimum[nncf,openvino]==1.16.2) (2023.2.1)\n",
      "Requirement already satisfied: psutil in /opt/intel/oneapi/intelpython/python3.9/lib/python3.9/site-packages (from nncf>=2.7.0->optimum-intel[openvino]>=1.12.0->optimum[nncf,openvino]==1.16.2) (5.9.0)\n",
      "Requirement already satisfied: pydot>=1.4.1 in /home/uad6b15e0ae3d5e407195ab5f044a50f/.local/lib/python3.9/site-packages (from nncf>=2.7.0->optimum-intel[openvino]>=1.12.0->optimum[nncf,openvino]==1.16.2) (2.0.0)\n",
      "Requirement already satisfied: pymoo>=0.6.0.1 in /home/uad6b15e0ae3d5e407195ab5f044a50f/.local/lib/python3.9/site-packages (from nncf>=2.7.0->optimum-intel[openvino]>=1.12.0->optimum[nncf,openvino]==1.16.2) (0.6.1.1)\n",
      "Requirement already satisfied: rich>=13.5.2 in /home/uad6b15e0ae3d5e407195ab5f044a50f/.local/lib/python3.9/site-packages (from nncf>=2.7.0->optimum-intel[openvino]>=1.12.0->optimum[nncf,openvino]==1.16.2) (13.7.0)\n",
      "Requirement already satisfied: scikit-learn>=0.24.0 in /opt/intel/oneapi/intelpython/python3.9/lib/python3.9/site-packages (from nncf>=2.7.0->optimum-intel[openvino]>=1.12.0->optimum[nncf,openvino]==1.16.2) (1.2.2)\n",
      "Requirement already satisfied: texttable>=1.6.3 in /home/uad6b15e0ae3d5e407195ab5f044a50f/.local/lib/python3.9/site-packages (from nncf>=2.7.0->optimum-intel[openvino]>=1.12.0->optimum[nncf,openvino]==1.16.2) (1.7.0)\n",
      "Requirement already satisfied: python-dateutil>=2.8.2 in /opt/intel/oneapi/intelpython/python3.9/lib/python3.9/site-packages (from pandas->datasets->optimum[nncf,openvino]==1.16.2) (2.8.2)\n",
      "Requirement already satisfied: pytz>=2020.1 in /opt/intel/oneapi/intelpython/python3.9/lib/python3.9/site-packages (from pandas->datasets->optimum[nncf,openvino]==1.16.2) (2023.3)\n",
      "Requirement already satisfied: tzdata>=2022.1 in /opt/intel/oneapi/intelpython/python3.9/lib/python3.9/site-packages (from pandas->datasets->optimum[nncf,openvino]==1.16.2) (2023.3)\n",
      "Requirement already satisfied: charset-normalizer<4,>=2 in /opt/intel/oneapi/intelpython/python3.9/lib/python3.9/site-packages (from requests->huggingface-hub>=0.8.0->optimum[nncf,openvino]==1.16.2) (3.1.0)\n",
      "Requirement already satisfied: idna<4,>=2.5 in /opt/intel/oneapi/intelpython/python3.9/lib/python3.9/site-packages (from requests->huggingface-hub>=0.8.0->optimum[nncf,openvino]==1.16.2) (3.4)\n",
      "Requirement already satisfied: urllib3<3,>=1.21.1 in /opt/intel/oneapi/intelpython/python3.9/lib/python3.9/site-packages (from requests->huggingface-hub>=0.8.0->optimum[nncf,openvino]==1.16.2) (2.0.3)\n",
      "Requirement already satisfied: certifi>=2017.4.17 in /opt/intel/oneapi/intelpython/python3.9/lib/python3.9/site-packages (from requests->huggingface-hub>=0.8.0->optimum[nncf,openvino]==1.16.2) (2023.7.22)\n",
      "Requirement already satisfied: MarkupSafe>=2.0 in /home/uad6b15e0ae3d5e407195ab5f044a50f/.local/lib/python3.9/site-packages (from jinja2->torch>=1.11->optimum[nncf,openvino]==1.16.2) (2.1.4)\n",
      "Requirement already satisfied: flatbuffers in /home/uad6b15e0ae3d5e407195ab5f044a50f/.local/lib/python3.9/site-packages (from onnxruntime->optimum-intel[openvino]>=1.12.0->optimum[nncf,openvino]==1.16.2) (23.5.26)\n",
      "Requirement already satisfied: jsonschema-specifications>=2023.03.6 in /home/uad6b15e0ae3d5e407195ab5f044a50f/.local/lib/python3.9/site-packages (from jsonschema>=3.2.0->nncf>=2.7.0->optimum-intel[openvino]>=1.12.0->optimum[nncf,openvino]==1.16.2) (2023.12.1)\n",
      "Requirement already satisfied: referencing>=0.28.4 in /home/uad6b15e0ae3d5e407195ab5f044a50f/.local/lib/python3.9/site-packages (from jsonschema>=3.2.0->nncf>=2.7.0->optimum-intel[openvino]>=1.12.0->optimum[nncf,openvino]==1.16.2) (0.33.0)\n",
      "Requirement already satisfied: rpds-py>=0.7.1 in /home/uad6b15e0ae3d5e407195ab5f044a50f/.local/lib/python3.9/site-packages (from jsonschema>=3.2.0->nncf>=2.7.0->optimum-intel[openvino]>=1.12.0->optimum[nncf,openvino]==1.16.2) (0.17.1)\n",
      "Requirement already satisfied: pyparsing>=3 in /opt/intel/oneapi/intelpython/python3.9/lib/python3.9/site-packages (from pydot>=1.4.1->nncf>=2.7.0->optimum-intel[openvino]>=1.12.0->optimum[nncf,openvino]==1.16.2) (3.1.0)\n",
      "Requirement already satisfied: matplotlib>=3 in /opt/intel/oneapi/intelpython/python3.9/lib/python3.9/site-packages (from pymoo>=0.6.0.1->nncf>=2.7.0->optimum-intel[openvino]>=1.12.0->optimum[nncf,openvino]==1.16.2) (3.6.2)\n",
      "Requirement already satisfied: autograd>=1.4 in /home/uad6b15e0ae3d5e407195ab5f044a50f/.local/lib/python3.9/site-packages (from pymoo>=0.6.0.1->nncf>=2.7.0->optimum-intel[openvino]>=1.12.0->optimum[nncf,openvino]==1.16.2) (1.6.2)\n",
      "Requirement already satisfied: cma==3.2.2 in /home/uad6b15e0ae3d5e407195ab5f044a50f/.local/lib/python3.9/site-packages (from pymoo>=0.6.0.1->nncf>=2.7.0->optimum-intel[openvino]>=1.12.0->optimum[nncf,openvino]==1.16.2) (3.2.2)\n",
      "Requirement already satisfied: alive-progress in /home/uad6b15e0ae3d5e407195ab5f044a50f/.local/lib/python3.9/site-packages (from pymoo>=0.6.0.1->nncf>=2.7.0->optimum-intel[openvino]>=1.12.0->optimum[nncf,openvino]==1.16.2) (3.1.5)\n",
      "Requirement already satisfied: Deprecated in /home/uad6b15e0ae3d5e407195ab5f044a50f/.local/lib/python3.9/site-packages (from pymoo>=0.6.0.1->nncf>=2.7.0->optimum-intel[openvino]>=1.12.0->optimum[nncf,openvino]==1.16.2) (1.2.14)\n",
      "Requirement already satisfied: six>=1.5 in /opt/intel/oneapi/intelpython/python3.9/lib/python3.9/site-packages (from python-dateutil>=2.8.2->pandas->datasets->optimum[nncf,openvino]==1.16.2) (1.16.0)\n",
      "Requirement already satisfied: markdown-it-py>=2.2.0 in /home/uad6b15e0ae3d5e407195ab5f044a50f/.local/lib/python3.9/site-packages (from rich>=13.5.2->nncf>=2.7.0->optimum-intel[openvino]>=1.12.0->optimum[nncf,openvino]==1.16.2) (3.0.0)\n",
      "Requirement already satisfied: pygments<3.0.0,>=2.13.0 in /opt/intel/oneapi/intelpython/python3.9/lib/python3.9/site-packages (from rich>=13.5.2->nncf>=2.7.0->optimum-intel[openvino]>=1.12.0->optimum[nncf,openvino]==1.16.2) (2.15.1)\n",
      "Requirement already satisfied: joblib>=1.1.1 in /opt/intel/oneapi/intelpython/python3.9/lib/python3.9/site-packages (from scikit-learn>=0.24.0->nncf>=2.7.0->optimum-intel[openvino]>=1.12.0->optimum[nncf,openvino]==1.16.2) (1.2.0)\n",
      "Requirement already satisfied: threadpoolctl>=2.0.0 in /opt/intel/oneapi/intelpython/python3.9/lib/python3.9/site-packages (from scikit-learn>=0.24.0->nncf>=2.7.0->optimum-intel[openvino]>=1.12.0->optimum[nncf,openvino]==1.16.2) (3.1.0)\n",
      "Requirement already satisfied: future>=0.15.2 in /opt/intel/oneapi/intelpython/python3.9/lib/python3.9/site-packages (from autograd>=1.4->pymoo>=0.6.0.1->nncf>=2.7.0->optimum-intel[openvino]>=1.12.0->optimum[nncf,openvino]==1.16.2) (0.18.3)\n",
      "Requirement already satisfied: mdurl~=0.1 in /home/uad6b15e0ae3d5e407195ab5f044a50f/.local/lib/python3.9/site-packages (from markdown-it-py>=2.2.0->rich>=13.5.2->nncf>=2.7.0->optimum-intel[openvino]>=1.12.0->optimum[nncf,openvino]==1.16.2) (0.1.2)\n",
      "Requirement already satisfied: contourpy>=1.0.1 in /opt/intel/oneapi/intelpython/python3.9/lib/python3.9/site-packages (from matplotlib>=3->pymoo>=0.6.0.1->nncf>=2.7.0->optimum-intel[openvino]>=1.12.0->optimum[nncf,openvino]==1.16.2) (1.0.5)\n",
      "Requirement already satisfied: cycler>=0.10 in /opt/intel/oneapi/intelpython/python3.9/lib/python3.9/site-packages (from matplotlib>=3->pymoo>=0.6.0.1->nncf>=2.7.0->optimum-intel[openvino]>=1.12.0->optimum[nncf,openvino]==1.16.2) (0.11.0)\n",
      "Requirement already satisfied: fonttools>=4.22.0 in /opt/intel/oneapi/intelpython/python3.9/lib/python3.9/site-packages (from matplotlib>=3->pymoo>=0.6.0.1->nncf>=2.7.0->optimum-intel[openvino]>=1.12.0->optimum[nncf,openvino]==1.16.2) (4.25.0)\n",
      "Requirement already satisfied: kiwisolver>=1.0.1 in /opt/intel/oneapi/intelpython/python3.9/lib/python3.9/site-packages (from matplotlib>=3->pymoo>=0.6.0.1->nncf>=2.7.0->optimum-intel[openvino]>=1.12.0->optimum[nncf,openvino]==1.16.2) (1.4.4)\n",
      "Requirement already satisfied: pillow>=6.2.0 in /opt/intel/oneapi/intelpython/python3.9/lib/python3.9/site-packages (from matplotlib>=3->pymoo>=0.6.0.1->nncf>=2.7.0->optimum-intel[openvino]>=1.12.0->optimum[nncf,openvino]==1.16.2) (10.0.0)\n",
      "Requirement already satisfied: about-time==4.2.1 in /home/uad6b15e0ae3d5e407195ab5f044a50f/.local/lib/python3.9/site-packages (from alive-progress->pymoo>=0.6.0.1->nncf>=2.7.0->optimum-intel[openvino]>=1.12.0->optimum[nncf,openvino]==1.16.2) (4.2.1)\n",
      "Requirement already satisfied: grapheme==0.6.0 in /home/uad6b15e0ae3d5e407195ab5f044a50f/.local/lib/python3.9/site-packages (from alive-progress->pymoo>=0.6.0.1->nncf>=2.7.0->optimum-intel[openvino]>=1.12.0->optimum[nncf,openvino]==1.16.2) (0.6.0)\n",
      "Requirement already satisfied: wrapt<2,>=1.10 in /home/uad6b15e0ae3d5e407195ab5f044a50f/.local/lib/python3.9/site-packages (from Deprecated->pymoo>=0.6.0.1->nncf>=2.7.0->optimum-intel[openvino]>=1.12.0->optimum[nncf,openvino]==1.16.2) (1.16.0)\n",
      "\u001b[33mWARNING: Ignoring invalid distribution -vidia-nccl-cu12 (/home/uad6b15e0ae3d5e407195ab5f044a50f/.local/lib/python3.9/site-packages)\u001b[0m\u001b[33m\n",
      "\u001b[0m\u001b[33mWARNING: Ignoring invalid distribution -vidia-nccl-cu12 (/home/uad6b15e0ae3d5e407195ab5f044a50f/.local/lib/python3.9/site-packages)\u001b[0m\u001b[33m\n",
      "\u001b[0m\u001b[33mWARNING: Ignoring invalid distribution -vidia-nccl-cu12 (/home/uad6b15e0ae3d5e407195ab5f044a50f/.local/lib/python3.9/site-packages)\u001b[0m\u001b[33m\n",
      "\u001b[0m\u001b[33mWARNING: Ignoring invalid distribution -vidia-nccl-cu12 (/home/uad6b15e0ae3d5e407195ab5f044a50f/.local/lib/python3.9/site-packages)\u001b[0m\u001b[33m\n",
      "\u001b[0m"
     ]
    }
   ],
   "source": [
    "!source /opt/intel/oneapi/setvars.sh #comment out if not running on Intel Developer Cloud Jupyter\n",
    "!pip install transformers==4.37.2\n",
    "!pip install optimum==1.16.2\n",
    "!pip install --upgrade-strategy eager optimum[openvino,nncf]==1.16.2"
   ]
  },
  {
   "cell_type": "markdown",
   "id": "6e3d1ce5-f04a-4a6b-9912-8bf10c0e04da",
   "metadata": {},
   "source": [
    "# Let's test Optimum Intel For OpenVINO"
   ]
  },
  {
   "cell_type": "markdown",
   "id": "858b5d2f-ce5e-4db3-a7e6-4d8675233f88",
   "metadata": {},
   "source": [
    "#### Importing Libraries for Model Optimization\n",
    "\n",
    "This cell is the foundation of our journey into model optimization. Here, we import:\n",
    "- `OVModelForCausalLM` from `optimum.intel`, which is a specialized model class that integrates OpenVINO optimizations with Hugging Face models.\n",
    "- `AutoTokenizer` and `pipeline` from Hugging Face's `transformers` library, essential for tokenizing input data and creating a pipeline for text generation."
   ]
  },
  {
   "cell_type": "code",
   "execution_count": 2,
   "id": "5ef88d70-17d5-41c1-941a-3d6faca243c0",
   "metadata": {},
   "outputs": [
    {
     "name": "stdout",
     "output_type": "stream",
     "text": [
      "INFO:nncf:NNCF initialized successfully. Supported frameworks detected: torch, onnx, openvino\n"
     ]
    },
    {
     "name": "stderr",
     "output_type": "stream",
     "text": [
      "Intel(R) Extension for Scikit-learn* enabled (https://github.com/intel/scikit-learn-intelex)\n"
     ]
    }
   ],
   "source": [
    "from optimum.intel import OVModelForCausalLM\n",
    "from transformers import AutoTokenizer, pipeline"
   ]
  },
  {
   "cell_type": "markdown",
   "id": "a7022182-17dc-469c-b216-acc25f306a21",
   "metadata": {},
   "source": [
    "#### Model and Tokenizer Loading\n",
    "\n",
    "In this cell, we load the model and tokenizer:\n",
    "- `model_id` is set to \"helenai/gpt2-ov\", a GPT-2 model optimized using OpenVINO.\n",
    "- `OVModelForCausalLM.from_pretrained` is used to load the optimized model, ensuring that it's ready for efficient inference.\n",
    "- `AutoTokenizer.from_pretrained` prepares the tokenizer corresponding to our model, crucial for processing input text.m"
   ]
  },
  {
   "cell_type": "code",
   "execution_count": 3,
   "id": "f508d13f-b4a6-4f8f-aa07-d63812e0c198",
   "metadata": {},
   "outputs": [
    {
     "name": "stderr",
     "output_type": "stream",
     "text": [
      "Provided model does not contain state. It may lead to sub-optimal performance.Please reexport model with updated OpenVINO version >= 2023.3.0 calling the `from_pretrained` method with original model and `export=True` parameter\n",
      "Compiling the model to CPU ...\n"
     ]
    }
   ],
   "source": [
    "model_id = \"helenai/gpt2-ov\"\n",
    "model = OVModelForCausalLM.from_pretrained(model_id)\n",
    "tokenizer = AutoTokenizer.from_pretrained(model_id)"
   ]
  },
  {
   "cell_type": "markdown",
   "id": "09ec1a03-15f5-423c-9100-7e40a30aba3a",
   "metadata": {},
   "source": [
    "#### Setting Up the Inference Pipeline\n",
    "\n",
    "We set up a pipeline for text generation:\n",
    "- `pipeline(\"text-generation\")` is initialized with our OpenVINO-optimized model and tokenizer, creating an efficient text generation pipeline.\n"
   ]
  },
  {
   "cell_type": "code",
   "execution_count": 4,
   "id": "401ec295-3fbc-4047-8f41-9747a4de9e0d",
   "metadata": {},
   "outputs": [
    {
     "name": "stderr",
     "output_type": "stream",
     "text": [
      "device must be of type <class 'str'> but got <class 'torch.device'> instead\n"
     ]
    }
   ],
   "source": [
    "pipe = pipeline(\"text-generation\", model=model, tokenizer=tokenizer)"
   ]
  },
  {
   "cell_type": "markdown",
   "id": "a3d71751-b538-4310-936a-7deca5600f27",
   "metadata": {},
   "source": [
    "#### Generating Text with the Optimized Model\n",
    "\n",
    "In this final cell, we use our pipeline to generate text:\n",
    "- The pipeline is fed with a prompt (\"In the sprint, beautiful flowers bloom...\"), and we observe the model's output, showcasing the efficiency and performance of our OpenVINO-optimized model in generating text."
   ]
  },
  {
   "cell_type": "code",
   "execution_count": 5,
   "id": "f0dff96f-27a2-41f0-bde5-e8f108807191",
   "metadata": {},
   "outputs": [
    {
     "name": "stderr",
     "output_type": "stream",
     "text": [
      "Setting `pad_token_id` to `eos_token_id`:50256 for open-end generation.\n"
     ]
    },
    {
     "data": {
      "text/plain": [
       "[{'generated_text': 'In the spring, beautiful flowers bloom...\\n\\nDingdong, Zhejiang, China, USA\\n\\nMay 7th - 18th (in a little over a week) - A mysterious bird or two roosted over a field'}]"
      ]
     },
     "execution_count": 5,
     "metadata": {},
     "output_type": "execute_result"
    }
   ],
   "source": [
    "pipe(\"In the spring, beautiful flowers bloom...\")"
   ]
  },
  {
   "cell_type": "markdown",
   "id": "1bf7263e-1c18-42c2-97e9-725aa87989c8",
   "metadata": {},
   "source": [
    "# Conclusion and Discussion\n",
    "\n",
    "### Conclusion\n",
    "\n",
    "Throughout this workshop, we've explored the potent combination of Hugging Face's Transformers with Intel's OpenVINO toolkit through Optimum Intel. This integration not only enhances the efficiency of model inference on edge devices but also simplifies the deployment process on Intel hardware.\n",
    "\n",
    "### Discussion\n",
    "\n",
    "The skills acquired in this session are invaluable for developers looking to deploy AI models in edge computing environments. Understanding how to apply OpenVINO optimizations to Hugging Face models empowers developers to create more efficient, faster-performing applications, crucial in the fast-evolving landscape of AI and ML.\n",
    "\n",
    "As we continue to innovate in AI deployment, the knowledge of optimizing models for edge devices will remain a key asset in the toolkit of AI practitioners and developers."
   ]
  }
 ],
 "metadata": {
  "kernelspec": {
   "display_name": "base",
   "language": "python",
   "name": "base"
  },
  "language_info": {
   "codemirror_mode": {
    "name": "ipython",
    "version": 3
   },
   "file_extension": ".py",
   "mimetype": "text/x-python",
   "name": "python",
   "nbconvert_exporter": "python",
   "pygments_lexer": "ipython3",
   "version": "3.9.16"
  }
 },
 "nbformat": 4,
 "nbformat_minor": 5
}
